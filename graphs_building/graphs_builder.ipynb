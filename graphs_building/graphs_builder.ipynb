{
 "cells": [
  {
   "cell_type": "code",
   "execution_count": null,
   "id": "166e33d3",
   "metadata": {},
   "outputs": [],
   "source": [
    "import pandas as pd\n",
    "import matplotlib.pyplot as plt\n",
    "from astropy.stats.circstats import circmean\n",
    "from functools import reduce\n",
    "import datetime\n",
    "import pickle\n",
    "import time\n",
    "import plotly.express as px\n",
    "import numpy as np\n",
    "import sqlite3\n",
    "\n",
    "pd.set_option(\"display.precision\", 2)\n",
    "plt.rcParams.update({'font.size': 20, 'figure.figsize': (8, 4)})\n",
    "\n",
    "%matplotlib inline\n",
    "import matplotlib_inline\n",
    "matplotlib_inline.backend_inline.set_matplotlib_formats('svg')\n",
    "\n",
    "import seaborn as sns\n",
    "sns.set()\n",
    "\n",
    "import warnings\n",
    "warnings.filterwarnings('ignore')"
   ]
  },
  {
   "cell_type": "code",
   "execution_count": null,
   "id": "110aad77",
   "metadata": {},
   "outputs": [],
   "source": [
    "connector = sqlite3.connect(\"../Extras/graphs_data.db\")\n",
    "cursor = connector.cursor()"
   ]
  },
  {
   "cell_type": "code",
   "execution_count": null,
   "id": "c4502a39",
   "metadata": {
    "scrolled": false
   },
   "outputs": [],
   "source": [
    "cursor.execute(\"SELECT * FROM graphs_data\")\n",
    "rows = cursor.fetchall()\n",
    "for row in rows:\n",
    "        #getting heartrate samples from dataframe\n",
    "        samples_dict = pickle.loads(row[3])\n",
    "        dict_keys = list(samples_dict.keys())\n",
    "        dict_values = list(samples_dict.values())\n",
    "        samples_df = pd.DataFrame({'time':dict_keys, 'heartrate':dict_values})\n",
    "        #preparing plot title name\n",
    "        plot_title_name = 'user ID: '+str(row[0])+' Date: '+str(row[1])+' Type: '+str(row[2])\n",
    "        #creating lineplot\n",
    "        sns.lineplot(x='time', y='heartrate', data=samples_df)\n",
    "        plt.title(plot_title_name)\n",
    "        plt.show()"
   ]
  },
  {
   "cell_type": "code",
   "execution_count": null,
   "id": "59c4d2d4",
   "metadata": {},
   "outputs": [],
   "source": []
  }
 ],
 "metadata": {
  "kernelspec": {
   "display_name": "Python 3 (ipykernel)",
   "language": "python",
   "name": "python3"
  },
  "language_info": {
   "codemirror_mode": {
    "name": "ipython",
    "version": 3
   },
   "file_extension": ".py",
   "mimetype": "text/x-python",
   "name": "python",
   "nbconvert_exporter": "python",
   "pygments_lexer": "ipython3",
   "version": "3.9.13"
  }
 },
 "nbformat": 4,
 "nbformat_minor": 5
}
