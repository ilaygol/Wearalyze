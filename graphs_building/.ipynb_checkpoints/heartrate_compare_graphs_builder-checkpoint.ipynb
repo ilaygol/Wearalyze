{
 "cells": [
  {
   "cell_type": "code",
   "execution_count": null,
   "id": "166e33d3",
   "metadata": {},
   "outputs": [],
   "source": [
    "import pandas as pd\n",
    "import matplotlib.pyplot as plt\n",
    "from astropy.stats.circstats import circmean\n",
    "from functools import reduce\n",
    "import datetime\n",
    "import pickle\n",
    "import time\n",
    "import plotly.express as px\n",
    "import numpy as np\n",
    "import sqlite3\n",
    "\n",
    "pd.set_option(\"display.precision\", 2)\n",
    "plt.rcParams.update({'font.size': 20, 'figure.figsize': (8, 4)})\n",
    "\n",
    "%matplotlib inline\n",
    "import matplotlib_inline\n",
    "matplotlib_inline.backend_inline.set_matplotlib_formats('svg')\n",
    "\n",
    "import seaborn as sns\n",
    "sns.set()\n",
    "\n",
    "import warnings\n",
    "warnings.filterwarnings('ignore')"
   ]
  },
  {
   "cell_type": "code",
   "execution_count": null,
   "id": "110aad77",
   "metadata": {},
   "outputs": [],
   "source": [
    "NIGHT_STUDENT_CODE = 101\n",
    "MORNING_STUDENT_CODE = 227\n",
    "\n",
    "connector = sqlite3.connect(\"../Extras/graphs_data.db\")\n",
    "cursorMorning = connector.cursor()\n",
    "cursorNight = connector.cursor()"
   ]
  },
  {
   "cell_type": "markdown",
   "id": "e465b82a",
   "metadata": {},
   "source": [
    "### implementing functions to help with graphs printing"
   ]
  },
  {
   "cell_type": "code",
   "execution_count": null,
   "id": "6acafaf4",
   "metadata": {},
   "outputs": [],
   "source": [
    "def print_single_values_graph(Samples):\n",
    "    #getting heartrate samples from dataframe\n",
    "    heartrate_samples_dict = pickle.loads(Samples[3])\n",
    "    heartrate_dict_keys = list(heartrate_samples_dict.keys())\n",
    "    heartrate_dict_values = list(heartrate_samples_dict.values())\n",
    "    heartrate_samples_df = pd.DataFrame({'time':heartrate_dict_keys, 'heartrate':heartrate_dict_values})\n",
    "    #preparing plot title name\n",
    "    plot_title_name = 'user ID: '+str(Samples[0])+' Date: '+str(Samples[1])+' Type: '+str(Samples[2])\n",
    "    #creating lineplot\n",
    "    sns.lineplot(x='time', y='heartrate', data=heartrate_samples_df, color='red')\n",
    "    plt.title(plot_title_name)\n",
    "    # configurating axis \"x\" bins\n",
    "    plt.xticks(np.arange(0, 25, step=1))\n",
    "    \n",
    "    plt.show()\n",
    "\n",
    "def print_double_values_graph(morning_samples, night_samples):\n",
    "    #getting heartrate samples from dataframe\n",
    "    heartrate_morning_samples_dict = pickle.loads(morning_samples[3])\n",
    "    heartrate_night_samples_dict = pickle.loads(night_samples[3])\n",
    "    #getting time for axis \"x\"\n",
    "    heartrate_morning_dict_keys = list(heartrate_morning_samples_dict.keys())\n",
    "    heartrate_night_dict_keys = list(heartrate_night_samples_dict.keys())\n",
    "    #getting heartrate values for axis \"y\"\n",
    "    heartrate_morning_dict_values = list(heartrate_morning_samples_dict.values())\n",
    "    heartrate_night_dict_values = list(heartrate_night_samples_dict.values())\n",
    "    #building dataframes\n",
    "    heartrate_morning_samples_df = pd.DataFrame({'time':heartrate_morning_dict_keys, 'heartrate':heartrate_morning_dict_values})\n",
    "    heartrate_night_samples_df = pd.DataFrame({'time':heartrate_night_dict_keys, 'heartrate':heartrate_night_dict_values})\n",
    "    #plot title name\n",
    "    plot_title_name = \"Users: (\"+str(morning_samples[0])+\" vs \"+str(night_samples[0])+\") Date:\"+str(night_samples[1])+\" Type: \"+night_samples[2]\n",
    "    \n",
    "    #creating lineplot\n",
    "    sns.lineplot(x='time', y='heartrate', data=heartrate_morning_samples_df, color='red')\n",
    "    sns.lineplot(x='time', y='heartrate', data=heartrate_night_samples_df, color='blue')\n",
    "\n",
    "    plt.title(plot_title_name)\n",
    "    \n",
    "    plt.legend(loc='best', labels=[str(MORNING_STUDENT_CODE)+\" (Morning-type)\", str(NIGHT_STUDENT_CODE)+\" (Night-type)\"])\n",
    "    # configurating axis \"x\" bins\n",
    "    plt.xticks(np.arange(0, 25, step=1))\n",
    "        \n",
    "    plt.show()"
   ]
  },
  {
   "cell_type": "markdown",
   "id": "83df3813",
   "metadata": {},
   "source": [
    "### graphs printing function in given dates"
   ]
  },
  {
   "cell_type": "code",
   "execution_count": null,
   "id": "a9b48949",
   "metadata": {},
   "outputs": [],
   "source": [
    "from datetime import datetime, timedelta\n",
    "\n",
    "def print_compare_graphs_in_dates(start_date, end_date):\n",
    "    current_date = start_date\n",
    "    while current_date <= end_date:\n",
    "        formatted_date = current_date.strftime('%Y-%m-%d')\n",
    "        cursorMorning.execute(\"SELECT * FROM heartrate_graphs_data WHERE id=\"+str(MORNING_STUDENT_CODE)+\" and date='\"+formatted_date+\"'\")\n",
    "        cursorNight.execute(\"SELECT * FROM heartrate_graphs_data WHERE id=\"+str(NIGHT_STUDENT_CODE)+\" and date='\"+formatted_date+\"'\")\n",
    "        morningSamples = cursorMorning.fetchone()\n",
    "        nightSamples = cursorNight.fetchone()\n",
    "        if((morningSamples is None) and (nightSamples is None)):\n",
    "            #both students doesnt have samples in that day, nothing to print\n",
    "            pass\n",
    "        elif(morningSamples is None):\n",
    "            #we have night type student samples at this date, we print them\n",
    "            print_single_values_graph(nightSamples)\n",
    "        elif(nightSamples is None):\n",
    "            print_single_values_graph(morningSamples)\n",
    "        else:\n",
    "            #both students has samples, we print a compare graph at this date\n",
    "            print_double_values_graph(morningSamples, nightSamples)\n",
    "\n",
    "        current_date += timedelta(days=1)"
   ]
  },
  {
   "cell_type": "markdown",
   "id": "ad13772b",
   "metadata": {},
   "source": [
    "### setting dates and calling printing function to print graphs"
   ]
  },
  {
   "cell_type": "code",
   "execution_count": null,
   "id": "0048144f",
   "metadata": {
    "scrolled": false
   },
   "outputs": [],
   "source": [
    "#setting dates\n",
    "start_date = datetime(2023, 1, 1)\n",
    "end_date = datetime(2023, 5, 1)\n",
    "\n",
    "#calling function to start printing\n",
    "print_compare_graphs_in_dates(start_date, end_date)"
   ]
  },
  {
   "cell_type": "code",
   "execution_count": null,
   "id": "f92528a8",
   "metadata": {},
   "outputs": [],
   "source": []
  }
 ],
 "metadata": {
  "kernelspec": {
   "display_name": "Python 3 (ipykernel)",
   "language": "python",
   "name": "python3"
  },
  "language_info": {
   "codemirror_mode": {
    "name": "ipython",
    "version": 3
   },
   "file_extension": ".py",
   "mimetype": "text/x-python",
   "name": "python",
   "nbconvert_exporter": "python",
   "pygments_lexer": "ipython3",
   "version": "3.9.13"
  }
 },
 "nbformat": 4,
 "nbformat_minor": 5
}
