{
 "cells": [
  {
   "cell_type": "code",
   "execution_count": null,
   "id": "f3498075",
   "metadata": {},
   "outputs": [],
   "source": [
    "import pandas as pd\n",
    "import matplotlib.pyplot as plt\n",
    "from astropy.stats.circstats import circmean\n",
    "from functools import reduce\n",
    "import datetime\n",
    "import pickle\n",
    "import time\n",
    "import plotly.express as px\n",
    "import numpy as np\n",
    "import sqlite3\n",
    "\n",
    "pd.set_option(\"display.precision\", 2)\n",
    "plt.rcParams.update({'font.size': 20, 'figure.figsize': (8, 4)})\n",
    "\n",
    "%matplotlib inline\n",
    "import matplotlib_inline\n",
    "matplotlib_inline.backend_inline.set_matplotlib_formats('svg')\n",
    "\n",
    "import seaborn as sns\n",
    "sns.set()\n",
    "\n",
    "import warnings\n",
    "warnings.filterwarnings('ignore')"
   ]
  },
  {
   "cell_type": "code",
   "execution_count": null,
   "id": "df4989f9",
   "metadata": {},
   "outputs": [],
   "source": [
    "connector = sqlite3.connect(\"../Extras/graphs_data.db\")\n",
    "cursorMorning = connector.cursor()\n",
    "cursorNight = connector.cursor()"
   ]
  },
  {
   "cell_type": "markdown",
   "id": "315c2d2c",
   "metadata": {},
   "source": [
    "### implementing functions to help with graphs printing"
   ]
  },
  {
   "cell_type": "code",
   "execution_count": null,
   "id": "28611f8b",
   "metadata": {},
   "outputs": [],
   "source": [
    "def print_single_values_graph(Samples):\n",
    "    #getting heartrate samples from dataframe\n",
    "    heartrate_samples_dict = pickle.loads(Samples[3])\n",
    "    heartrate_dict_keys = list(heartrate_samples_dict.keys())\n",
    "    heartrate_dict_values = list(heartrate_samples_dict.values())\n",
    "    heartrate_samples_df = pd.DataFrame({'time':heartrate_dict_keys, 'heartrate':heartrate_dict_values})\n",
    "    #preparing plot title name\n",
    "    plot_title_name = 'user ID: '+str(Samples[0])+' Date: '+str(Samples[1])+' Type: '+str(Samples[2])\n",
    "    #creating lineplot\n",
    "    sns.lineplot(x='time', y='heartrate', data=heartrate_samples_df, color='red')\n",
    "    plt.title(plot_title_name)\n",
    "    # configurating axis \"x\" bins\n",
    "    plt.xticks(np.arange(0, 25, step=1))\n",
    "    \n",
    "    plt.show()\n",
    "\n",
    "def print_double_values_graph(firstSamples, secondSamples):\n",
    "    #getting heartrate samples from dataframe\n",
    "    heartrate_first_samples_dict = pickle.loads(firstSamples[3])\n",
    "    heartrate_second_samples_dict = pickle.loads(secondSamples[3])\n",
    "    #getting time for axis \"x\"\n",
    "    heartrate_first_dict_keys = list(heartrate_first_samples_dict.keys())\n",
    "    heartrate_second_dict_keys = list(heartrate_second_samples_dict.keys())\n",
    "    #getting heartrate values for axis \"y\"\n",
    "    heartrate_first_dict_values = list(heartrate_first_samples_dict.values())\n",
    "    heartrate_second_dict_values = list(heartrate_second_samples_dict.values())\n",
    "    #building dataframes\n",
    "    heartrate_first_samples_df = pd.DataFrame({'time':heartrate_first_dict_keys, 'heartrate':heartrate_first_dict_values})\n",
    "    heartrate_second_samples_df = pd.DataFrame({'time':heartrate_second_dict_keys, 'heartrate':heartrate_second_dict_values})\n",
    "    #plot title name\n",
    "    plot_title_name = \"Users: (\"+str(firstSamples[0])+\" vs \"+str(secondSamples[0])+\") Date:\"+str(secondSamples[1])+\" Type: \"+secondSamples[2]\n",
    "    \n",
    "    #creating lineplot\n",
    "    sns.lineplot(x='time', y='heartrate', data=heartrate_first_samples_df, color='red')\n",
    "    sns.lineplot(x='time', y='heartrate', data=heartrate_second_samples_df, color='blue')\n",
    "\n",
    "    plt.title(plot_title_name)\n",
    "    \n",
    "    plt.legend(loc='best', labels=['Morning-type', 'Night-type'])\n",
    "    # configurating axis \"x\" bins\n",
    "    plt.xticks(np.arange(0, 25, step=1))\n",
    "        \n",
    "    plt.show()"
   ]
  },
  {
   "cell_type": "markdown",
   "id": "b764c9b2",
   "metadata": {},
   "source": [
    "### graphs printing function in given dates"
   ]
  },
  {
   "cell_type": "code",
   "execution_count": null,
   "id": "03e8e28e",
   "metadata": {},
   "outputs": [],
   "source": [
    "from datetime import datetime, timedelta\n",
    "\n",
    "def print_compare_graphs_in_dates(start_date, end_date, first_code, second_code):\n",
    "    current_date = start_date\n",
    "    while current_date <= end_date:\n",
    "        formatted_date = current_date.strftime('%Y-%m-%d')\n",
    "        cursorMorning.execute(\"SELECT * FROM heartrate_graphs_data WHERE id=\"+str(first_code)+\" and date='\"+formatted_date+\"'\")\n",
    "        cursorNight.execute(\"SELECT * FROM heartrate_graphs_data WHERE id=\"+str(second_code)+\" and date='\"+formatted_date+\"'\")\n",
    "        morningSamples = cursorMorning.fetchone()\n",
    "        nightSamples = cursorNight.fetchone()\n",
    "        if((morningSamples is None) and (nightSamples is None)):\n",
    "            #both students doesnt have samples in that day, nothing to print\n",
    "            continue\n",
    "        elif(morningSamples is None):\n",
    "            #we have night type student samples at this date, we print them\n",
    "            print_single_values_graph(nightSamples)\n",
    "        elif(nightSamples is None):\n",
    "            print_single_values_graph(morningSamples)\n",
    "        else:\n",
    "            #both students has samples, we print a compare graph at this date\n",
    "            print_double_values_graph(morningSamples, nightSamples)\n",
    "\n",
    "        current_date += timedelta(days=1)"
   ]
  },
  {
   "cell_type": "markdown",
   "id": "6e33f1de",
   "metadata": {},
   "source": [
    "### setting dates and calling printing function to print graphs"
   ]
  },
  {
   "cell_type": "code",
   "execution_count": 1,
   "id": "8a60f636",
   "metadata": {},
   "outputs": [
    {
     "ename": "NameError",
     "evalue": "name 'datetime' is not defined",
     "output_type": "error",
     "traceback": [
      "\u001b[1;31m---------------------------------------------------------------------------\u001b[0m",
      "\u001b[1;31mNameError\u001b[0m                                 Traceback (most recent call last)",
      "\u001b[1;32m~\\AppData\\Local\\Temp\\ipykernel_10168\\4186568029.py\u001b[0m in \u001b[0;36m<module>\u001b[1;34m\u001b[0m\n\u001b[0;32m      2\u001b[0m \u001b[0mMORNING_STUDENT_CODE\u001b[0m \u001b[1;33m=\u001b[0m \u001b[1;36m228\u001b[0m\u001b[1;33m\u001b[0m\u001b[1;33m\u001b[0m\u001b[0m\n\u001b[0;32m      3\u001b[0m \u001b[1;31m#setting dates\u001b[0m\u001b[1;33m\u001b[0m\u001b[1;33m\u001b[0m\u001b[0m\n\u001b[1;32m----> 4\u001b[1;33m \u001b[0mstart_date\u001b[0m \u001b[1;33m=\u001b[0m \u001b[0mdatetime\u001b[0m\u001b[1;33m(\u001b[0m\u001b[1;36m2023\u001b[0m\u001b[1;33m,\u001b[0m \u001b[1;36m1\u001b[0m\u001b[1;33m,\u001b[0m \u001b[1;36m20\u001b[0m\u001b[1;33m)\u001b[0m\u001b[1;33m\u001b[0m\u001b[1;33m\u001b[0m\u001b[0m\n\u001b[0m\u001b[0;32m      5\u001b[0m \u001b[0mend_date\u001b[0m \u001b[1;33m=\u001b[0m \u001b[0mdatetime\u001b[0m\u001b[1;33m(\u001b[0m\u001b[1;36m2023\u001b[0m\u001b[1;33m,\u001b[0m \u001b[1;36m4\u001b[0m\u001b[1;33m,\u001b[0m \u001b[1;36m20\u001b[0m\u001b[1;33m)\u001b[0m\u001b[1;33m\u001b[0m\u001b[1;33m\u001b[0m\u001b[0m\n\u001b[0;32m      6\u001b[0m \u001b[1;33m\u001b[0m\u001b[0m\n",
      "\u001b[1;31mNameError\u001b[0m: name 'datetime' is not defined"
     ]
    }
   ],
   "source": [
    "NIGHT_STUDENT_CODE = 105\n",
    "MORNING_STUDENT_CODE = 228\n",
    "#setting dates\n",
    "start_date = datetime(2023, 1, 20)\n",
    "end_date = datetime(2023, 4, 20)\n",
    "\n",
    "#calling function to start printing\n",
    "print_compare_graphs_in_dates(start_date, end_date,MORNING_STUDENT_CODE , NIGHT_STUDENT_CODE)"
   ]
  },
  {
   "cell_type": "code",
   "execution_count": null,
   "id": "b97b392d",
   "metadata": {},
   "outputs": [],
   "source": []
  }
 ],
 "metadata": {
  "kernelspec": {
   "display_name": "Python 3 (ipykernel)",
   "language": "python",
   "name": "python3"
  },
  "language_info": {
   "codemirror_mode": {
    "name": "ipython",
    "version": 3
   },
   "file_extension": ".py",
   "mimetype": "text/x-python",
   "name": "python",
   "nbconvert_exporter": "python",
   "pygments_lexer": "ipython3",
   "version": "3.9.13"
  }
 },
 "nbformat": 4,
 "nbformat_minor": 5
}
