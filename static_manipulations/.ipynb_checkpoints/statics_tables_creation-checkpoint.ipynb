{
 "cells": [
  {
   "cell_type": "code",
   "execution_count": null,
   "id": "c9847348",
   "metadata": {},
   "outputs": [],
   "source": [
    "import pandas as pd\n",
    "import matplotlib.pyplot as plt\n",
    "from astropy.stats.circstats import circmean\n",
    "from functools import reduce\n",
    "import datetime\n",
    "import time\n",
    "import plotly.express as px\n",
    "import numpy as np\n",
    "\n",
    "pd.set_option(\"display.precision\", 2)\n",
    "plt.rcParams.update({'font.size': 20, 'figure.figsize': (8, 4)})\n",
    "\n",
    "%matplotlib inline\n",
    "import matplotlib_inline\n",
    "matplotlib_inline.backend_inline.set_matplotlib_formats('svg')\n",
    "\n",
    "import seaborn as sns\n",
    "sns.set()\n",
    "\n",
    "import warnings\n",
    "warnings.filterwarnings('ignore')"
   ]
  },
  {
   "cell_type": "code",
   "execution_count": null,
   "id": "ef4fa9f8",
   "metadata": {
    "scrolled": true
   },
   "outputs": [],
   "source": [
    "working_df = pd.read_csv(\"measurements_full.csv\")\n",
    "working_df['numeric_id'] = working_df['id'].apply(lambda id: int(id))\n",
    "working_df.info()"
   ]
  },
  {
   "cell_type": "markdown",
   "id": "6694b708",
   "metadata": {},
   "source": [
    "### adding sleeping_hour column to dataframe"
   ]
  },
  {
   "cell_type": "code",
   "execution_count": null,
   "id": "d2a81602",
   "metadata": {},
   "outputs": [],
   "source": [
    "def convert_epoch_to_time(epoch):\n",
    "    if not pd.isna(epoch):\n",
    "        return time.strftime('%H:%M', time.localtime(epoch))\n",
    "\n",
    "    \n",
    "working_df['sleeping_hour'] = working_df['start_seconds'].apply(convert_epoch_to_time)\n",
    "working_df"
   ]
  },
  {
   "cell_type": "markdown",
   "id": "f8944ab6",
   "metadata": {},
   "source": [
    "### creating main table that includes [id, date, heartRate, stress, steps, sleeping_time, sleeping_duration, waking_time, midSleep, week-end, exams]"
   ]
  },
  {
   "cell_type": "code",
   "execution_count": null,
   "id": "eaa95178",
   "metadata": {
    "scrolled": false
   },
   "outputs": [],
   "source": [
    "def is_weekend(date):\n",
    "    \"\"\"\n",
    "    input: a string that descripe a date in format {day}/{month}/{year}\n",
    "    output: - \"Yes\" if the date is weekend (friday/saturday)\n",
    "            - \"No\" otherwise\n",
    "    \"\"\"\n",
    "    date_arr = date.split('/')\n",
    "    day, month, year = int(date_arr[0]), int(date_arr[1]), int(date_arr[2])\n",
    "    date_time = datetime.datetime(year, month, day)\n",
    "    \n",
    "    if (date_time.strftime('%A') == 'Friday' or date_time.strftime('%A') == 'Saturday'):\n",
    "        return 'Yes'\n",
    "    else:\n",
    "        return 'No'\n",
    "\n",
    "\n",
    "def is_exams_period(date):\n",
    "    \"\"\"\n",
    "    input: a string that descripe a date in format {day}/{month}/{year}\n",
    "    output: - \"Yes\" if the date falls in exams perioud (25/1/2023 - 15/2/2023)\n",
    "            - \"No\" otherwise\n",
    "    \"\"\"\n",
    "    date_arr = date.split('/')\n",
    "    day, month, year = int(date_arr[0]), int(date_arr[1]), int(date_arr[2])\n",
    "    \n",
    "    if (month == 1 and day >= 25) or (month == 2 and day <= 15):\n",
    "        return 'Yes'\n",
    "    else:\n",
    "        return 'No'\n",
    "\n",
    "    \n",
    "def convert_epoch_to_time(epoch_time):\n",
    "    \"\"\"\n",
    "    input : epoch time\n",
    "    output : a string that describe the time in format {hours}:{minutes}\n",
    "    \"\"\"\n",
    "    if not pd.isna(epoch_time):\n",
    "        return datetime.datetime.fromtimestamp(epoch_time).strftime('%H:%M')\n",
    "\n",
    "\n",
    "working_df['weekend'] = working_df['date'].apply(is_weekend)\n",
    "working_df['exam period'] = working_df['date'].apply(is_exams_period)\n",
    "working_df['midsleep_seconds'] = working_df['start_seconds'] + (working_df['duration_seconds'] / 2)\n",
    "working_df['midSleep time'] = working_df['midsleep_seconds'].apply(convert_epoch_to_time)\n",
    "working_df = working_df.fillna(value=np.nan) # replace None values with NaN values\n",
    "#deleting unwanted columns (that researches doesnt need) from dataframe\n",
    "measurements = working_df.drop(['start_seconds', 'duration_seconds', 'waking_seconds', 'numeric_id', 'midsleep_seconds', 'sleeping_hour'], axis=1)\n",
    "#re-ordering columns\n",
    "measurements = measurements[['id','date', 'steps', 'average heartrate', 'average stress', 'sleep time', 'duration', 'awake time', 'midSleep time', 'weekend', 'exam period']]"
   ]
  },
  {
   "cell_type": "markdown",
   "id": "319025fb",
   "metadata": {},
   "source": [
    "### save measurements dataframe to csv"
   ]
  },
  {
   "cell_type": "code",
   "execution_count": null,
   "id": "f01fa4d3",
   "metadata": {},
   "outputs": [],
   "source": [
    "measurements.to_csv('measurements.csv', index=False)\n",
    "measurements"
   ]
  },
  {
   "cell_type": "markdown",
   "id": "ea28817c",
   "metadata": {},
   "source": [
    "### coding a function that recieve dataframe and returns averages dataframe"
   ]
  },
  {
   "cell_type": "code",
   "execution_count": null,
   "id": "501e56dd",
   "metadata": {
    "scrolled": false
   },
   "outputs": [],
   "source": [
    "def create_avg_time_df(time_df, time_column_name, average_column_name):\n",
    "    \"\"\"\n",
    "    the function recieves dataframe with time columns, it returns average time dataframe grouped by id\n",
    "    \"\"\"\n",
    "    time_df[\"radians\"] = pd.to_datetime(time_df[time_column_name], format=\"%H:%M\").dt.hour / 24 * 2 * np.pi\n",
    "    \n",
    "    # Compute the circular mean of the radians for each group\n",
    "    average_df = time_df.groupby(\"id\").agg({\"radians\": circmean, time_column_name: \"first\"})\n",
    "    #deleting radians column to not effect recieved dataframe\n",
    "    time_df.drop(['radians'], axis=1, inplace = True)\n",
    "    # Convert the radians to \"hour:minute\" format\n",
    "    average_df[average_column_name] = pd.to_datetime(average_df[\"radians\"] / (2 * np.pi) * 24, unit=\"h\").dt.strftime(\"%H:%M\")\n",
    "    \n",
    "    return average_df.drop(['radians',time_column_name], axis=1)\n",
    "\n",
    "\n",
    "def create_avg_table_from_df(measurments_df):\n",
    "    \"\"\"\n",
    "    input: a final research results dataframe \n",
    "    output: averages dataframe that include the following average columns => \n",
    "     => [steps, average heartrate, average stress, average sleep start, duration, average awake time, average midsleep ]         \n",
    "    \"\"\"\n",
    "    ######################calculating average for steps predictors##########################\n",
    "    \n",
    "    #creating df without 0 heartrate value rows\n",
    "    clean_heart_rate_df = measurments_df[measurments_df['average heartrate'] != 0]\n",
    "    #creating df without -1 stress level rows\n",
    "    clean_stress_level_df = measurments_df[measurments_df['average stress'] != -1]\n",
    "\n",
    "    #average dailies predictors dataframe creation\n",
    "    average_steps_df = measurments_df.groupby('id')['steps'].mean().to_frame()\n",
    "    #average heartrate dataframe creation\n",
    "    average_heartRate_df = clean_heart_rate_df.groupby('id')['average heartrate'].mean().to_frame()\n",
    "    #average stress level dataframe creation\n",
    "    average_stress_df = clean_stress_level_df.groupby('id')['average stress'].mean().to_frame()\n",
    "\n",
    "\n",
    "    #merging all dailies average dataframes into one dataframe\n",
    "    dailies_df_list = [average_steps_df, average_heartRate_df, average_stress_df]\n",
    "    merged_dailies_df = reduce(lambda left, right: pd.merge(left, right, on=\"id\", how=\"inner\"), dailies_df_list)\n",
    "    ######################calculating average for sleeps predictors############################\n",
    "    \n",
    "    #removing empty sleeps rows\n",
    "    clean_sleeps_df = measurments_df.dropna()\n",
    "    \n",
    "    #average sleeps predictors dataframe creation\n",
    "    average_sleep_df = create_avg_time_df(clean_sleeps_df, 'sleeping_hour','average sleep start')\n",
    "    average_sleep_duration_df = clean_sleeps_df.groupby('id')['duration'].mean().to_frame()\n",
    "    average_awake_df = create_avg_time_df(clean_sleeps_df, 'awake time','average awake time')\n",
    "    average_midsleep_df = create_avg_time_df(clean_sleeps_df, 'midSleep time','average midsleep')\n",
    "    \n",
    "    # merging all sleeps average dataframes into one dataframe\n",
    "    sleeping_df_list = [average_sleep_df, average_sleep_duration_df, average_midsleep_df, average_awake_df]\n",
    "    merged_sleeping_df = reduce(lambda left, right: pd.merge(left, right, on=\"id\", how=\"inner\"), sleeping_df_list)\n",
    "\n",
    "    #creating final merged df\n",
    "    merged_df = pd.merge(merged_dailies_df, merged_sleeping_df, on='id', how='left')\n",
    "    \n",
    "    return merged_df\n"
   ]
  },
  {
   "cell_type": "markdown",
   "id": "b48be536",
   "metadata": {},
   "source": [
    "### creating morning-type, exams-period, mid-week averages table"
   ]
  },
  {
   "cell_type": "code",
   "execution_count": null,
   "id": "236826d0",
   "metadata": {},
   "outputs": [],
   "source": [
    "morning_exams_midweek_students_df = working_df[(working_df['numeric_id'] >= 200) & (working_df['weekend']=='No') & (working_df['exam period']=='Yes')]\n",
    "morning_exams_midweek_average_df = create_avg_table_from_df(morning_exams_midweek_students_df)"
   ]
  },
  {
   "cell_type": "markdown",
   "id": "c78c63ad",
   "metadata": {},
   "source": [
    "### saving morning-type, mid-week, exams-duration averages dataframe to csv"
   ]
  },
  {
   "cell_type": "code",
   "execution_count": null,
   "id": "cdfd89e2",
   "metadata": {},
   "outputs": [],
   "source": [
    "morning_exams_midweek_average_df.to_csv('morning-midweek-exams-averages.csv')\n",
    "morning_exams_midweek_average_df"
   ]
  },
  {
   "cell_type": "markdown",
   "id": "24eaf1ac",
   "metadata": {},
   "source": [
    "### creating morning-type, exams-period, weekend averages table"
   ]
  },
  {
   "cell_type": "code",
   "execution_count": null,
   "id": "6290d75e",
   "metadata": {},
   "outputs": [],
   "source": [
    "morning_exams_weekend_students_df = working_df[(working_df['numeric_id'] >= 200) & (working_df['weekend']=='Yes') & (working_df['exam period']=='Yes')]\n",
    "morning_exams_weekend_average_df = create_avg_table_from_df(morning_exams_weekend_students_df)"
   ]
  },
  {
   "cell_type": "markdown",
   "id": "02c48192",
   "metadata": {},
   "source": [
    "### saving morning-type, exams-period, weekend averages dataframe to csv"
   ]
  },
  {
   "cell_type": "code",
   "execution_count": null,
   "id": "2dedb921",
   "metadata": {},
   "outputs": [],
   "source": [
    "morning_exams_weekend_average_df.to_csv('morning-weekend-exams-averages.csv')\n",
    "morning_exams_weekend_average_df"
   ]
  },
  {
   "cell_type": "markdown",
   "id": "466c1bf5",
   "metadata": {},
   "source": [
    "### creating morning-type, non-exams, weekend average table"
   ]
  },
  {
   "cell_type": "code",
   "execution_count": null,
   "id": "ba23797e",
   "metadata": {},
   "outputs": [],
   "source": [
    "morning_non_exams_weekend_students_df = working_df[(working_df['numeric_id'] >= 200) & (working_df['weekend']=='Yes') & (working_df['exam period']=='No')]\n",
    "morning_non_exams_weekend_averages_df = create_avg_table_from_df(morning_non_exams_weekend_students_df)"
   ]
  },
  {
   "cell_type": "markdown",
   "id": "3c247d38",
   "metadata": {},
   "source": [
    "### saving morning-type, non-exams, weekend averages dataframe to csv"
   ]
  },
  {
   "cell_type": "code",
   "execution_count": null,
   "id": "e6cbd79c",
   "metadata": {},
   "outputs": [],
   "source": [
    "morning_non_exams_weekend_averages_df.to_csv('morning-weekend-non-exams-averages.csv')\n",
    "morning_non_exams_weekend_averages_df"
   ]
  },
  {
   "cell_type": "markdown",
   "id": "66031ce4",
   "metadata": {},
   "source": [
    "### creating morning-type, non-exams, midweek average table"
   ]
  },
  {
   "cell_type": "code",
   "execution_count": null,
   "id": "b2043ff0",
   "metadata": {},
   "outputs": [],
   "source": [
    "morning_non_exams_midweek_students_df = working_df[(working_df['numeric_id'] >= 200) & (working_df['weekend']=='No') & (working_df['exam period']=='No')]\n",
    "morning_non_exams_midweek_average_df = create_avg_table_from_df(morning_non_exams_midweek_students_df)"
   ]
  },
  {
   "cell_type": "markdown",
   "id": "36e6e5f4",
   "metadata": {},
   "source": [
    "### saving morning-type, non-exams, weekend averages dataframe to csv"
   ]
  },
  {
   "cell_type": "code",
   "execution_count": null,
   "id": "1939fb3a",
   "metadata": {},
   "outputs": [],
   "source": [
    "morning_non_exams_midweek_average_df.to_csv('morning-midweek-non-exams-averages.csv')\n",
    "morning_non_exams_midweek_average_df"
   ]
  },
  {
   "cell_type": "markdown",
   "id": "0608a06f",
   "metadata": {},
   "source": [
    "### creating night-type, non-exams, midweek average table"
   ]
  },
  {
   "cell_type": "code",
   "execution_count": null,
   "id": "2cf43681",
   "metadata": {},
   "outputs": [],
   "source": [
    "night_non_exams_midweek_students_df = working_df[(working_df['numeric_id'] < 200) & (working_df['weekend']=='No') & (working_df['exam period']=='No')]\n",
    "night_non_exams_midweek_average_df = create_avg_table_from_df(night_non_exams_midweek_students_df)"
   ]
  },
  {
   "cell_type": "markdown",
   "id": "12f5e499",
   "metadata": {},
   "source": [
    "### saving night-type, non-exams, weekend averages dataframe to csv"
   ]
  },
  {
   "cell_type": "code",
   "execution_count": null,
   "id": "59fd4668",
   "metadata": {},
   "outputs": [],
   "source": [
    "night_non_exams_midweek_average_df.to_csv('night-midweek-non-exams-averages.csv')\n",
    "night_non_exams_midweek_average_df"
   ]
  },
  {
   "cell_type": "markdown",
   "id": "083c1eb6",
   "metadata": {},
   "source": [
    "### creating night-type, exams, midweek average table"
   ]
  },
  {
   "cell_type": "code",
   "execution_count": null,
   "id": "5de0e9e9",
   "metadata": {},
   "outputs": [],
   "source": [
    "night_exams_midweek_students_df = working_df[(working_df['numeric_id'] < 200) & (working_df['weekend']=='No') & (working_df['exam period']=='Yes')]\n",
    "night_exams_midweek_average_df = create_avg_table_from_df(night_exams_midweek_students_df)"
   ]
  },
  {
   "cell_type": "markdown",
   "id": "0e96b9e6",
   "metadata": {},
   "source": [
    "### saving night-type, exams, midweek averages dataframe to csv"
   ]
  },
  {
   "cell_type": "code",
   "execution_count": null,
   "id": "5b15f198",
   "metadata": {},
   "outputs": [],
   "source": [
    "night_exams_midweek_average_df.to_csv('night-midweek-exams-averages.csv')\n",
    "night_exams_midweek_average_df"
   ]
  },
  {
   "cell_type": "markdown",
   "id": "4485f5e6",
   "metadata": {},
   "source": [
    "### creating night-type, non-exams, weekend average table"
   ]
  },
  {
   "cell_type": "code",
   "execution_count": null,
   "id": "c27284af",
   "metadata": {},
   "outputs": [],
   "source": [
    "night_non_exams_weekend_students_df = working_df[(working_df['numeric_id'] < 200) & (working_df['weekend']=='Yes') & (working_df['exam period']=='No')]\n",
    "night_non_exams_weekend_average_df = create_avg_table_from_df(night_non_exams_weekend_students_df)"
   ]
  },
  {
   "cell_type": "markdown",
   "id": "b7eeab6e",
   "metadata": {},
   "source": [
    "### saving night-type, non-exams, weekend averages dataframe to csv"
   ]
  },
  {
   "cell_type": "code",
   "execution_count": null,
   "id": "26bda8e2",
   "metadata": {},
   "outputs": [],
   "source": [
    "night_non_exams_weekend_average_df.to_csv('night-weekend-non-exams-averages.csv')\n",
    "night_non_exams_weekend_average_df"
   ]
  },
  {
   "cell_type": "markdown",
   "id": "2093a97f",
   "metadata": {},
   "source": [
    "### creating night-type, exams, weekend average table"
   ]
  },
  {
   "cell_type": "code",
   "execution_count": null,
   "id": "534af843",
   "metadata": {},
   "outputs": [],
   "source": [
    "night_exams_weekend_students_df = working_df[(working_df['numeric_id'] < 200) & (working_df['weekend']=='Yes') & (working_df['exam period']=='Yes')]\n",
    "night_exams_weekend_average_df = create_avg_table_from_df(night_exams_weekend_students_df)"
   ]
  },
  {
   "cell_type": "markdown",
   "id": "97446e04",
   "metadata": {},
   "source": [
    "### saving night-type, exams, weekend averages dataframe to csv"
   ]
  },
  {
   "cell_type": "code",
   "execution_count": null,
   "id": "258c8304",
   "metadata": {},
   "outputs": [],
   "source": [
    "night_exams_weekend_average_df.to_csv('night-weekend-exams-averages.csv')\n",
    "night_exams_weekend_average_df"
   ]
  },
  {
   "cell_type": "markdown",
   "id": "059772c3",
   "metadata": {},
   "source": [
    "### creating sleep duration difference (row are: non-exams - exams, midweek - weekend)"
   ]
  },
  {
   "cell_type": "code",
   "execution_count": null,
   "id": "9b4bd5e0",
   "metadata": {},
   "outputs": [],
   "source": [
    "#seperating working df into weekend measurements and midweek measurements\n",
    "weekend_df = working_df[working_df['weekend'] == 'Yes'].dropna()\n",
    "midweek_df = working_df[working_df['weekend'] == 'No'].dropna()\n",
    "# calculating sum of sleeping hours for each user \n",
    "sum_sleep_hours_weekend_df = weekend_df.groupby('id')['duration'].sum().reset_index()\n",
    "sum_sleep_hours_weekend_df.rename(columns={'duration':'weekend sleep duration'}, inplace=True)\n",
    "sum_sleep_hours_midweek_df = midweek_df.groupby('id')['duration'].sum().reset_index()\n",
    "sum_sleep_hours_midweek_df.rename(columns={'duration':'midweek sleep duration'}, inplace=True)\n",
    "#merging both midweek and weekend tables\n",
    "sum_of_sleeps_weekend_midweek_df = pd.merge(sum_sleep_hours_weekend_df,sum_sleep_hours_midweek_df, on = \"id\", how='outer')\n",
    "\n",
    "#seperating working df into weekend measurements and midweek measurements\n",
    "exams_period_df = working_df[working_df['exam period'] == 'Yes'].dropna()\n",
    "non_exams_period_df = working_df[working_df['exam period'] == 'No'].dropna()\n",
    "# calculating sum of sleeping hours for each user\n",
    "sum_sleep_hours_exams_df = exams_period_df.groupby('id')['duration'].sum().reset_index()\n",
    "sum_sleep_hours_exams_df.rename(columns={'duration':'exams sleep duration'}, inplace=True)\n",
    "sum_sleep_hours_non_exams_df = non_exams_period_df.groupby('id')['duration'].sum().reset_index()\n",
    "sum_sleep_hours_non_exams_df.rename(columns={'duration':'non-exams sleep duration'}, inplace=True)\n",
    "#merging both exams and non-exams tables\n",
    "sum_of_sleeps_exams_non_exams_df = pd.merge(sum_sleep_hours_exams_df,sum_sleep_hours_non_exams_df, on = \"id\", how='outer')\n",
    "\n",
    "#merging all sleeping duration tables\n",
    "sleeps_manipulations_df = pd.merge(sum_of_sleeps_weekend_midweek_df, sum_of_sleeps_exams_non_exams_df, on='id', how='outer')\n",
    "sleeps_manipulations_df.fillna(0, inplace=True)\n",
    "\n",
    "#calculating sleep diffrence between (midweek - weekend) and (exams - non exams)\n",
    "sleeps_manipulations_df['midweek - weekend'] = sleeps_manipulations_df['midweek sleep duration'] - sleeps_manipulations_df['weekend sleep duration']\n",
    "sleeps_manipulations_df['non exams - exams'] = sleeps_manipulations_df['non-exams sleep duration'] - sleeps_manipulations_df['exams sleep duration']\n",
    "\n",
    "#counting sleeping measures for each student\n",
    "count_sleep_hours_weekend_df = weekend_df.groupby('id')['duration'].count().reset_index()\n",
    "count_sleep_hours_weekend_df.rename(columns={'duration':'weekend measurements count'}, inplace=True)\n",
    "count_sleep_hours_midweek_df = midweek_df.groupby('id')['duration'].count().reset_index()\n",
    "count_sleep_hours_midweek_df.rename(columns={'duration':'midweek measurements count'}, inplace=True)\n",
    "count_sleep_hours_exams_df = exams_period_df.groupby('id')['duration'].count().reset_index()\n",
    "count_sleep_hours_exams_df.rename(columns={'duration':'exams measurements count'}, inplace=True)\n",
    "count_sleep_hours_non_exams_df = non_exams_period_df.groupby('id')['duration'].count().reset_index()\n",
    "count_sleep_hours_non_exams_df.rename(columns={'duration':'non-exams measurements count'}, inplace=True)\n",
    "\n",
    "#merging all counters df\n",
    "sleeps_counters_df = [count_sleep_hours_weekend_df, count_sleep_hours_midweek_df, count_sleep_hours_exams_df, count_sleep_hours_non_exams_df]\n",
    "merged_sleeps_counter_df = reduce(lambda left, right: pd.merge(left, right, on=\"id\", how=\"outer\"), sleeps_counters_df)\n",
    "merged_sleeps_counter_df.fillna(0, inplace=True)"
   ]
  },
  {
   "cell_type": "markdown",
   "id": "37db1bc3",
   "metadata": {},
   "source": [
    "### saving sleeps measurements sum and diffrence dataframe to csv file"
   ]
  },
  {
   "cell_type": "code",
   "execution_count": null,
   "id": "947750c2",
   "metadata": {},
   "outputs": [],
   "source": [
    "sleeps_manipulations_df.to_csv('sleeping-duration-sum-difference.csv')\n",
    "sleeps_manipulations_df"
   ]
  },
  {
   "cell_type": "markdown",
   "id": "cdf04a52",
   "metadata": {},
   "source": [
    "### saving sleeping measurements count dataframe to csv file"
   ]
  },
  {
   "cell_type": "code",
   "execution_count": null,
   "id": "1dfec5f3",
   "metadata": {},
   "outputs": [],
   "source": [
    "merged_sleeps_counter_df.to_csv('sleeping_measurements_count.csv')\n",
    "merged_sleeps_counter_df"
   ]
  },
  {
   "cell_type": "markdown",
   "id": "9c3c7f56",
   "metadata": {},
   "source": [
    "#### Merging all averages tables"
   ]
  },
  {
   "cell_type": "code",
   "execution_count": null,
   "id": "0231eada",
   "metadata": {},
   "outputs": [],
   "source": [
    "#adding description columns to all averages dataframes\n",
    "morning_exams_midweek_average_df[\"type\"] = ['Morning' for i in range(len(morning_exams_midweek_average_df))]\n",
    "morning_exams_midweek_average_df[\"exams period\"] = ['Yes' for i in range(len(morning_exams_midweek_average_df))]\n",
    "morning_exams_midweek_average_df[\"weekend\"] = ['No' for i in range(len(morning_exams_midweek_average_df))]\n",
    "\n",
    "morning_exams_weekend_average_df[\"type\"] = ['Morning' for i in range(len(morning_exams_weekend_average_df))]\n",
    "morning_exams_weekend_average_df[\"exams period\"] = ['Yes' for i in range(len(morning_exams_weekend_average_df))]\n",
    "morning_exams_weekend_average_df[\"weekend\"] = ['Yes' for i in range(len(morning_exams_weekend_average_df))]\n",
    "\n",
    "morning_non_exams_weekend_averages_df[\"type\"] = ['Morning' for i in range(len(morning_non_exams_weekend_averages_df))]\n",
    "morning_non_exams_weekend_averages_df[\"exams period\"] = ['No' for i in range(len(morning_non_exams_weekend_averages_df))]\n",
    "morning_non_exams_weekend_averages_df[\"weekend\"] = ['Yes' for i in range(len(morning_non_exams_weekend_averages_df))]\n",
    "\n",
    "morning_non_exams_midweek_average_df[\"type\"] = ['Morning' for i in range(len(morning_non_exams_midweek_average_df))]\n",
    "morning_non_exams_midweek_average_df[\"exams period\"] = ['No' for i in range(len(morning_non_exams_midweek_average_df))]\n",
    "morning_non_exams_midweek_average_df[\"weekend\"] = ['No' for i in range(len(morning_non_exams_midweek_average_df))]\n",
    "\n",
    "night_non_exams_midweek_average_df[\"type\"] = ['Night' for i in range(len(night_non_exams_midweek_average_df))]\n",
    "night_non_exams_midweek_average_df[\"exams period\"] = ['No' for i in range(len(night_non_exams_midweek_average_df))]\n",
    "night_non_exams_midweek_average_df[\"weekend\"] = ['No' for i in range(len(night_non_exams_midweek_average_df))]\n",
    "\n",
    "night_exams_midweek_average_df[\"type\"] = ['Night' for i in range(len(night_exams_midweek_average_df))]\n",
    "night_exams_midweek_average_df[\"exams period\"] = ['Yes' for i in range(len(night_exams_midweek_average_df))]\n",
    "night_exams_midweek_average_df[\"weekend\"] = ['No' for i in range(len(night_exams_midweek_average_df))]\n",
    "\n",
    "night_non_exams_weekend_average_df[\"type\"] = ['Night' for i in range(len(night_non_exams_weekend_average_df))]\n",
    "night_non_exams_weekend_average_df[\"exams period\"] = ['No' for i in range(len(night_non_exams_weekend_average_df))]\n",
    "night_non_exams_weekend_average_df[\"weekend\"] = ['Yes' for i in range(len(night_non_exams_weekend_average_df))]\n",
    "\n",
    "night_exams_weekend_average_df[\"type\"] = ['Night' for i in range(len(night_exams_weekend_average_df))]\n",
    "night_exams_weekend_average_df[\"exams period\"] = ['Yes' for i in range(len(night_exams_weekend_average_df))]\n",
    "night_exams_weekend_average_df[\"weekend\"] = ['Yes' for i in range(len(night_exams_weekend_average_df))]\n",
    "\n",
    "merged_averages_df = pd.concat([morning_exams_midweek_average_df, morning_exams_weekend_average_df, morning_non_exams_weekend_averages_df,\n",
    "                                morning_non_exams_midweek_average_df, night_non_exams_midweek_average_df, night_exams_midweek_average_df,\n",
    "                                night_non_exams_weekend_average_df, night_exams_weekend_average_df]).reset_index()\n",
    "sorted_by_id_merged_averages_df = merged_averages_df.sort_values('id').set_index('id').reset_index()"
   ]
  },
  {
   "cell_type": "markdown",
   "id": "ff777c59",
   "metadata": {},
   "source": [
    "### saving merged averages dataframe to csv file"
   ]
  },
  {
   "cell_type": "code",
   "execution_count": null,
   "id": "d35d39f7",
   "metadata": {},
   "outputs": [],
   "source": [
    "merged_averages_df.to_csv('merged_averages.csv')\n",
    "sorted_by_id_merged_averages_df.to_csv('sorted_merged_averages.csv')\n",
    "sorted_by_id_merged_averages_df"
   ]
  },
  {
   "cell_type": "markdown",
   "id": "de0786ca",
   "metadata": {},
   "source": [
    "### creating average sleep duration table for each tested student"
   ]
  },
  {
   "cell_type": "code",
   "execution_count": null,
   "id": "3ebe873a",
   "metadata": {},
   "outputs": [],
   "source": [
    "averages_df = create_avg_table_from_df(working_df).reset_index()\n",
    "sleep_duration_averages_df = averages_df[['id','duration']].set_index('id')"
   ]
  },
  {
   "cell_type": "code",
   "execution_count": null,
   "id": "69eba238",
   "metadata": {},
   "outputs": [],
   "source": [
    "sleep_duration_averages_df.to_csv('sleep_duration_averages.csv')\n",
    "sleep_duration_averages_df"
   ]
  },
  {
   "cell_type": "markdown",
   "id": "8cb8fd7f",
   "metadata": {},
   "source": [
    "### creating average midsleep table for midweek measurements"
   ]
  },
  {
   "cell_type": "code",
   "execution_count": 45,
   "id": "1f642057",
   "metadata": {},
   "outputs": [],
   "source": [
    "mid_week_df = working_df[ (working_df['weekend']=='No')]\n",
    "mid_week_averages_df = create_avg_table_from_df(mid_week_df).reset_index()\n",
    "mid_week_midsleep_averages_df = mid_week_averages_df[['id','average midsleep']].set_index('id')"
   ]
  },
  {
   "cell_type": "code",
   "execution_count": null,
   "id": "a809a926",
   "metadata": {},
   "outputs": [],
   "source": [
    "mid_week_midsleep_averages_df.to_csv('midweek_midsleep_average.csv')\n",
    "mid_week_midsleep_averages_df"
   ]
  },
  {
   "cell_type": "markdown",
   "id": "daa082a1",
   "metadata": {},
   "source": [
    "### creating average midsleep table for weekend measurements"
   ]
  },
  {
   "cell_type": "code",
   "execution_count": null,
   "id": "e11180f1",
   "metadata": {},
   "outputs": [],
   "source": [
    "weekend_df = working_df[ (working_df['weekend']=='Yes')]\n",
    "weekend_averages_df = create_avg_table_from_df(weekend_df).reset_index()\n",
    "weekend_midsleep_averages_df = weekend_averages_df[['id','average midsleep']].set_index('id')"
   ]
  },
  {
   "cell_type": "code",
   "execution_count": null,
   "id": "9474cc6b",
   "metadata": {},
   "outputs": [],
   "source": [
    "weekend_midsleep_averages_df.to_csv('weekend_midsleep_average.csv')\n",
    "weekend_midsleep_averages_df"
   ]
  }
 ],
 "metadata": {
  "kernelspec": {
   "display_name": "Python 3 (ipykernel)",
   "language": "python",
   "name": "python3"
  },
  "language_info": {
   "codemirror_mode": {
    "name": "ipython",
    "version": 3
   },
   "file_extension": ".py",
   "mimetype": "text/x-python",
   "name": "python",
   "nbconvert_exporter": "python",
   "pygments_lexer": "ipython3",
   "version": "3.9.13"
  }
 },
 "nbformat": 4,
 "nbformat_minor": 5
}
